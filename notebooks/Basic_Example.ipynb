{
 "cells": [
  {
   "cell_type": "code",
   "execution_count": 1,
   "metadata": {},
   "outputs": [],
   "source": [
    "%matplotlib inline \n",
    "%load_ext autoreload\n",
    "%autoreload 2\n",
    "%config InlineBackend.figure_format = 'retina'"
   ]
  },
  {
   "cell_type": "code",
   "execution_count": 35,
   "metadata": {},
   "outputs": [],
   "source": [
    "import fgspectra.power, fgspectra.frequency, fgspectra.models"
   ]
  },
  {
   "cell_type": "code",
   "execution_count": 105,
   "metadata": {},
   "outputs": [
    {
     "name": "stdout",
     "output_type": "stream",
     "text": [
      "148.0 148.0 {'nu_0': 150.0, 'ell_0': 3000, 'a_tSZ': 1.0}\n",
      "148.0 220.0 {'nu_0': 150.0, 'ell_0': 3000, 'a_tSZ': 1.0}\n",
      "220.0 148.0 {'nu_0': 150.0, 'ell_0': 3000, 'a_tSZ': 1.0}\n",
      "220.0 220.0 {'nu_0': 150.0, 'ell_0': 3000, 'a_tSZ': 1.0}\n"
     ]
    },
    {
     "data": {
      "text/plain": [
       "array([[[ 1.88272572e-06,  1.88272572e-06,  1.88272572e-06, ...,\n",
       "          1.05900686e+00,  1.05896920e+00,  1.05893343e+00],\n",
       "        [-7.49187486e-08, -7.49187486e-08, -7.49187486e-08, ...,\n",
       "         -4.21407472e-02, -4.21392489e-02, -4.21378254e-02]],\n",
       "\n",
       "       [[-7.49187486e-08, -7.49187486e-08, -7.49187486e-08, ...,\n",
       "         -4.21407472e-02, -4.21392489e-02, -4.21378254e-02],\n",
       "        [ 2.98121965e-09,  2.98121965e-09,  2.98121965e-09, ...,\n",
       "          1.67689431e-03,  1.67683469e-03,  1.67677805e-03]]])"
      ]
     },
     "execution_count": 105,
     "metadata": {},
     "output_type": "execute_result"
    }
   ],
   "source": [
    "import fgspectra.models\n",
    "\n",
    "freqs = [148.0, 220.0]\n",
    "nu_0 = 150.0\n",
    "ell_0 = 3000\n",
    "\n",
    "tSZ1 = fgspectra.models.ThermalSZ(nu_0=nu_0, ell_0=ell_0)\n",
    "\n",
    "# tSZ1.model( 150.0, 150.0, ell=np.array([3000]), a_tSZ=1.0)\n",
    "\n",
    "tSZ1.get_mix(freqs=freqs, l_max=4000, a_tSZ=1.0)\n",
    "\n",
    "# kSZ1 = fgspectra.models.KineticSZ(nu_0=nu_0, ell_0=ell_0)\n",
    "\n",
    "# def secondaries(ell, par):\n",
    "#     \"\"\"returns mixing matrix \"\"\"\n",
    "#     return (\n",
    "#         tSZ1.mix(nu, a_tSZ=par['a_tSZ'], freqs=freqs) + \n",
    "#         kSZ1.mix(nu, a_kSZ=par['a_kSZ'], freqs=freqs)\n",
    "#     )"
   ]
  },
  {
   "cell_type": "code",
   "execution_count": null,
   "metadata": {},
   "outputs": [],
   "source": []
  },
  {
   "cell_type": "code",
   "execution_count": 14,
   "metadata": {},
   "outputs": [],
   "source": [
    "# tsz_frq = fgspectra.frequency.tSZ1()"
   ]
  },
  {
   "cell_type": "code",
   "execution_count": 21,
   "metadata": {},
   "outputs": [],
   "source": [
    "tsz_ell = fgspectra.power.sz_x_cib_template()"
   ]
  },
  {
   "cell_type": "code",
   "execution_count": 24,
   "metadata": {},
   "outputs": [
    {
     "data": {
      "text/plain": [
       "0.0001065846"
      ]
     },
     "execution_count": 24,
     "metadata": {},
     "output_type": "execute_result"
    }
   ],
   "source": [
    "tsz_ell.powspec(5)"
   ]
  },
  {
   "cell_type": "code",
   "execution_count": 42,
   "metadata": {},
   "outputs": [],
   "source": [
    "import os\n",
    "\n",
    "packagedir = list(fgspectra.__path__)[0]\n",
    "dirname = os.path.join( os.path.dirname(packagedir), 'data') \n"
   ]
  },
  {
   "cell_type": "code",
   "execution_count": 43,
   "metadata": {},
   "outputs": [
    {
     "data": {
      "text/plain": [
       "'/home/zequnl/Projects/fgspectra/data'"
      ]
     },
     "execution_count": 43,
     "metadata": {},
     "output_type": "execute_result"
    }
   ],
   "source": [
    "dirname"
   ]
  },
  {
   "cell_type": "code",
   "execution_count": 29,
   "metadata": {},
   "outputs": [
    {
     "name": "stdout",
     "output_type": "stream",
     "text": [
      "{'aTSZ': 1}\n",
      "True\n"
     ]
    }
   ],
   "source": [
    "def testfunc(**kwargs):\n",
    "    print(kwargs)\n",
    "    print( 'aTSZ' in kwargs )\n",
    "    \n",
    "testfunc(**{'aTSZ':1})"
   ]
  },
  {
   "cell_type": "code",
   "execution_count": 30,
   "metadata": {},
   "outputs": [
    {
     "name": "stdout",
     "output_type": "stream",
     "text": [
      "aTSZ\n"
     ]
    }
   ],
   "source": [
    "for i in {'aTSZ':1}:\n",
    "    print(i)"
   ]
  },
  {
   "cell_type": "code",
   "execution_count": 51,
   "metadata": {},
   "outputs": [],
   "source": [
    "import numpy as np\n",
    "a, b = np.array( [[1,2], [3,4]])"
   ]
  },
  {
   "cell_type": "code",
   "execution_count": 49,
   "metadata": {},
   "outputs": [
    {
     "data": {
      "text/plain": [
       "array([[1, 2],\n",
       "       [3, 4]])"
      ]
     },
     "execution_count": 49,
     "metadata": {},
     "output_type": "execute_result"
    }
   ],
   "source": [
    "np.array( [[1,2], [3,4]])"
   ]
  },
  {
   "cell_type": "code",
   "execution_count": 47,
   "metadata": {},
   "outputs": [
    {
     "data": {
      "text/plain": [
       "(array([1, 2]), array([3, 4]))"
      ]
     },
     "execution_count": 47,
     "metadata": {},
     "output_type": "execute_result"
    }
   ],
   "source": [
    "a, b"
   ]
  },
  {
   "cell_type": "code",
   "execution_count": 50,
   "metadata": {},
   "outputs": [
    {
     "data": {
      "text/plain": [
       "2"
      ]
     },
     "execution_count": 50,
     "metadata": {},
     "output_type": "execute_result"
    }
   ],
   "source": [
    "len(a)"
   ]
  },
  {
   "cell_type": "code",
   "execution_count": null,
   "metadata": {},
   "outputs": [],
   "source": []
  }
 ],
 "metadata": {
  "kernelspec": {
   "display_name": "Python 3",
   "language": "python",
   "name": "python3"
  },
  "language_info": {
   "codemirror_mode": {
    "name": "ipython",
    "version": 3
   },
   "file_extension": ".py",
   "mimetype": "text/x-python",
   "name": "python",
   "nbconvert_exporter": "python",
   "pygments_lexer": "ipython3",
   "version": "3.6.7"
  }
 },
 "nbformat": 4,
 "nbformat_minor": 2
}
