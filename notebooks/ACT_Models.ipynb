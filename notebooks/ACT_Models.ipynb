{
 "cells": [
  {
   "cell_type": "code",
   "execution_count": 1,
   "metadata": {},
   "outputs": [],
   "source": [
    "%matplotlib inline \n",
    "%load_ext autoreload\n",
    "%autoreload 2"
   ]
  },
  {
   "cell_type": "code",
   "execution_count": 2,
   "metadata": {},
   "outputs": [],
   "source": [
    "from fgspectra import cross as fgc\n",
    "from fgspectra import power as fgp\n",
    "from fgspectra import frequency as fgf\n",
    "import numpy as np\n",
    "import matplotlib.pyplot as plt"
   ]
  },
  {
   "cell_type": "markdown",
   "metadata": {},
   "source": [
    "## ACT Parameters\n",
    "\n",
    "This notebook implements the models in [Dunkley et al. 2013](https://arxiv.org/abs/1301.0776).\n",
    "We write down the ACT parameters (these are from the multifrequency likelihood)."
   ]
  },
  {
   "cell_type": "code",
   "execution_count": 3,
   "metadata": {},
   "outputs": [],
   "source": [
    "par = {\n",
    "    'nu_0' : 150.0,\n",
    "    'ell_0' : 3000,\n",
    "    'T_CMB' : 2.725,\n",
    "    'T_d' : 9.7,\n",
    "\n",
    "    'a_tSZ' : 4.66,\n",
    "    'a_kSZ' : 1.60,\n",
    "    'a_p' : 6.87,\n",
    "    'beta_p' : 2.08 + 2.0,\n",
    "    'a_c' : 6.10,\n",
    "    'beta_c' : 2.08 + 2.0,\n",
    "    'n_CIBC' : 1.20,\n",
    "    'xi' : 0.09,\n",
    "    'a_s' :3.50,\n",
    "    'a_g' :0.88,\n",
    "}"
   ]
  },
  {
   "cell_type": "markdown",
   "metadata": {},
   "source": [
    "## Models"
   ]
  },
  {
   "cell_type": "code",
   "execution_count": 4,
   "metadata": {},
   "outputs": [],
   "source": [
    "# define the models from fgspectra\n",
    "ksz = fgc.FactorizedCrossSpectrum(fgf.UnitSED(), fgp.kSZ_bat())\n",
    "cibp = fgc.FactorizedCrossSpectrum(fgf.ModifiedBlackBody(), fgp.PowerLaw())\n",
    "radio = fgc.FactorizedCrossSpectrum(fgf.PowerLaw(), fgp.PowerLaw())\n",
    "cirrus = fgc.FactorizedCrossSpectrum(fgf.PowerLaw(), fgp.PowerLaw())\n",
    "\n",
    "# if there are correlations between components, \n",
    "# have to define them in a joined spectrum\n",
    "tSZ_and_CIB = fgc.CorrelatedFactorizedCrossSpectrum(\n",
    "    fgf.Join(fgf.ThermalSZ(), fgf.CIB()), \n",
    "    fgp.SZxCIB_Addison2012())\n",
    "\n",
    "# for testing purposes we'll also compute the tSZ and clustered CIB alone\n",
    "tsz = fgc.FactorizedCrossSpectrum(fgf.ThermalSZ(), fgp.tSZ_150_bat())\n",
    "cibc = fgc.FactorizedCrossSpectrum(fgf.CIB(), fgp.PowerLaw())"
   ]
  },
  {
   "cell_type": "markdown",
   "metadata": {},
   "source": [
    "## Calling the Models\n",
    "\n",
    "We can call the models individually."
   ]
  },
  {
   "cell_type": "code",
   "execution_count": 5,
   "metadata": {},
   "outputs": [],
   "source": [
    "freqs = np.array([150.0])\n",
    "ells = np.arange(2, 3000)"
   ]
  },
  {
   "cell_type": "code",
   "execution_count": 6,
   "metadata": {},
   "outputs": [
    {
     "data": {
      "text/plain": [
       "array([[[1.55555556e-06, 3.50000000e-06, 6.22222222e-06, ...,\n",
       "         3.49300350e+00, 3.49533489e+00, 3.49766706e+00]]])"
      ]
     },
     "execution_count": 6,
     "metadata": {},
     "output_type": "execute_result"
    }
   ],
   "source": [
    "par['a_s'] * radio(\n",
    "            {'nu':freqs, 'beta':-0.5 + 2, 'nu_0':par['nu_0'] },\n",
    "            {'ell':ells, 'alpha':2, 'ell_0':par['ell_0']})"
   ]
  },
  {
   "cell_type": "markdown",
   "metadata": {},
   "source": [
    "## All The Models\n",
    "\n",
    "To make a combined model, usually you should wrap `fgspectra` in your own function call and pass in whatever dictionary elements you want, so you can name your parameters."
   ]
  },
  {
   "cell_type": "code",
   "execution_count": 7,
   "metadata": {},
   "outputs": [],
   "source": [
    "def get_fg_model(freqs, ells, par):\n",
    "    return (\n",
    "        par['a_kSZ'] * ksz(\n",
    "            {'nu':freqs},\n",
    "            {'ell':ells, 'ell_0':par['ell_0']}) ,\n",
    "        par['a_p'] * cibp(\n",
    "            {'nu': freqs, 'nu_0':par['nu_0'], 'temp':par['T_d'], 'beta':par['beta_p']},\n",
    "            {'ell':ells, 'ell_0':par['ell_0'], 'alpha':2}),\n",
    "        \n",
    "        # joint tSZ, CIB, and their correlation\n",
    "        tSZ_and_CIB(\n",
    "            {'kwargs_seq': (\n",
    "                {'nu':freqs, 'nu_0':par['nu_0']},\n",
    "                {'nu': freqs, 'nu_0':par['nu_0'], 'temp':par['T_d'], 'beta':par['beta_c']} \n",
    "                )},\n",
    "            {'kwargs_seq': ( \n",
    "                {'ell':ells, 'ell_0':par['ell_0'], \n",
    "                 'amp':par['a_tSZ']},\n",
    "                {'ell':ells, 'ell_0':par['ell_0'], \n",
    "                 'alpha':2-par['n_CIBC'], 'amp':par['a_c']},\n",
    "                {'ell':ells, 'ell_0':par['ell_0'], \n",
    "                 'amp': -par['xi'] * np.sqrt(par['a_tSZ'] * par['a_c'])}\n",
    "                )}),\n",
    "    \n",
    "        par['a_s'] * radio(\n",
    "            {'nu': freqs, 'nu_0':par['nu_0'], 'beta':-0.5 - 2},\n",
    "            {'ell':ells, 'ell_0':par['ell_0'], 'alpha':2}) ,\n",
    "        par['a_g'] * cirrus(\n",
    "            {'nu': freqs, 'nu_0':par['nu_0'], 'beta':3.8 - 2},\n",
    "            {'ell':ells, 'ell_0':par['ell_0'], 'alpha':-0.7}),\n",
    "        \n",
    "        # THESE TWO ARE REDUDUNDANT, BUT USEFUL FOR TESTING\n",
    "        par['a_tSZ'] * tsz(\n",
    "                {'nu':freqs, 'nu_0': par['nu_0']},\n",
    "                {'ell':ells, 'ell_0':par['ell_0']}) ,\n",
    "        par['a_c'] * cibc(\n",
    "            {'nu': freqs, 'nu_0':par['nu_0'], 'temp':par['T_d'], 'beta':par['beta_c']},\n",
    "            {'ell':ells, 'ell_0':par['ell_0'], 'alpha':2 - par['n_CIBC']})\n",
    "\n",
    "    )"
   ]
  },
  {
   "cell_type": "code",
   "execution_count": 8,
   "metadata": {},
   "outputs": [],
   "source": [
    "specs = get_fg_model(freqs, ells, par)"
   ]
  },
  {
   "cell_type": "code",
   "execution_count": 9,
   "metadata": {},
   "outputs": [],
   "source": [
    "# remove the last tSZ, CIBC since they are redundant\n",
    "specs = specs[:-2]"
   ]
  },
  {
   "cell_type": "code",
   "execution_count": 10,
   "metadata": {},
   "outputs": [
    {
     "data": {
      "image/png": "[encoded data removed]",
      "text/plain": [
       "<Figure size 432x288 with 1 Axes>"
      ]
     },
     "metadata": {
      "needs_background": "light"
     },
     "output_type": "display_data"
    }
   ],
   "source": [
    "for spec in specs:\n",
    "    plt.plot(ells, spec[0,0], lw=2)\n",
    "    \n",
    "plt.plot( ells, np.sum( [s[0,0] for s in specs] , axis=0), 'k-', lw=4, label='sum' )\n",
    "plt.legend()\n",
    "plt.title('150x150')\n",
    "plt.yscale('log')"
   ]
  }
 ],
 "metadata": {
  "kernelspec": {
   "display_name": "Python 3",
   "language": "python",
   "name": "python3"
  },
  "language_info": {
   "codemirror_mode": {
    "name": "ipython",
    "version": 3
   },
   "file_extension": ".py",
   "mimetype": "text/x-python",
   "name": "python",
   "nbconvert_exporter": "python",
   "pygments_lexer": "ipython3",
   "version": "3.6.7"
  }
 },
 "nbformat": 4,
 "nbformat_minor": 2
}
