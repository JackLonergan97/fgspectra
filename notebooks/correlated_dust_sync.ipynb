{
 "cells": [
  {
   "cell_type": "markdown",
   "metadata": {},
   "source": [
    "# Correlated Dust and Synchrotron\n",
    "In this example we show how to use the models and reproduce Fig. 7 of Planck18 XI"
   ]
  },
  {
   "cell_type": "code",
   "execution_count": 1,
   "metadata": {},
   "outputs": [],
   "source": [
    "%matplotlib inline \n",
    "%load_ext autoreload\n",
    "%autoreload 2"
   ]
  },
  {
   "cell_type": "code",
   "execution_count": 2,
   "metadata": {},
   "outputs": [],
   "source": [
    "import pysm\n",
    "import numpy as np\n",
    "import matplotlib.pyplot as plt"
   ]
  },
  {
   "cell_type": "markdown",
   "metadata": {},
   "source": [
    "We will create directly the frequency-frequency cross-spectrum, so we only need the `cross` module"
   ]
  },
  {
   "cell_type": "code",
   "execution_count": 3,
   "metadata": {},
   "outputs": [],
   "source": [
    "import fgspectra.cross as fgc"
   ]
  },
  {
   "cell_type": "markdown",
   "metadata": {},
   "source": [
    "## Parameters"
   ]
  },
  {
   "cell_type": "markdown",
   "metadata": {},
   "source": [
    "The Planck and WMAP polarized channels involved are"
   ]
  },
  {
   "cell_type": "code",
   "execution_count": 4,
   "metadata": {},
   "outputs": [],
   "source": [
    "nu = np.array([23, 28.4, 33, 100, 143, 217, 353])"
   ]
  },
  {
   "cell_type": "markdown",
   "metadata": {},
   "source": [
    "From the paper (and in particular the legend of Fig 8) we get the following parameters"
   ]
  },
  {
   "cell_type": "code",
   "execution_count": 5,
   "metadata": {},
   "outputs": [],
   "source": [
    "dust_params = dict(nu=nu, beta=1.5, temp=19.6, nu_0=353.)\n",
    "sync_params = dict(nu=nu, beta=-3.15, nu_0=30)\n",
    "frequency_params = dict(kwseq=(dust_params, sync_params))\n",
    "\n",
    "power_params = dict(\n",
    "    ell=np.array([9, 50.]),\n",
    "    alpha=np.array([-2.51, -3.]) + 2,  # +2 to (almost) get D_ell\n",
    "    ell_0=50,\n",
    "    amp=np.array([137.0, 0.6]),\n",
    "    rho=0.17\n",
    ")"
   ]
  },
  {
   "cell_type": "markdown",
   "metadata": {},
   "source": [
    "## Computing the cross-spectrum"
   ]
  },
  {
   "cell_type": "markdown",
   "metadata": {},
   "source": [
    "We now create the appropriate object"
   ]
  },
  {
   "cell_type": "code",
   "execution_count": 6,
   "metadata": {},
   "outputs": [],
   "source": [
    "dust_sync = fgc.CorrelatedDustSynchrotron()"
   ]
  },
  {
   "cell_type": "markdown",
   "metadata": {},
   "source": [
    "and evaluate it for the parameters above"
   ]
  },
  {
   "cell_type": "code",
   "execution_count": 7,
   "metadata": {},
   "outputs": [],
   "source": [
    "cl = dust_sync(frequency_params, power_params)"
   ]
  },
  {
   "cell_type": "markdown",
   "metadata": {},
   "source": [
    "The output array has three dimensions: the first frequency, the second frequency and the multipoles"
   ]
  },
  {
   "cell_type": "code",
   "execution_count": 8,
   "metadata": {},
   "outputs": [
    {
     "data": {
      "text/plain": [
       "(7, 7, 2)"
      ]
     },
     "execution_count": 8,
     "metadata": {},
     "output_type": "execute_result"
    }
   ],
   "source": [
    "cl.shape"
   ]
  },
  {
   "cell_type": "markdown",
   "metadata": {},
   "source": [
    "# Compare with Planck18 XI"
   ]
  },
  {
   "cell_type": "markdown",
   "metadata": {},
   "source": [
    "We plot the cross-spectra at the effective frequency, defined as the geometric mean of the two frequencies involved"
   ]
  },
  {
   "cell_type": "code",
   "execution_count": 9,
   "metadata": {},
   "outputs": [],
   "source": [
    "nu_eff = (nu * nu[:, np.newaxis])**0.5"
   ]
  },
  {
   "cell_type": "markdown",
   "metadata": {},
   "source": [
    "and here are the plots"
   ]
  },
  {
   "cell_type": "code",
   "execution_count": 10,
   "metadata": {},
   "outputs": [
    {
     "data": {
      "image/png": "[encoded data removed]",
      "text/plain": [
       "<Figure size 432x288 with 1 Axes>"
      ]
     },
     "metadata": {},
     "output_type": "display_data"
    },
    {
     "data": {
      "image/png": "[encoded data removed]",
      "text/plain": [
       "<Figure size 432x288 with 1 Axes>"
      ]
     },
     "metadata": {},
     "output_type": "display_data"
    }
   ],
   "source": [
    "for b in range(2):\n",
    "    plt.figure()\n",
    "    for i in range(len(nu)):\n",
    "        for j in range(i-1, len(nu)):\n",
    "            if i == j:\n",
    "                color = 'Gold'\n",
    "            else:\n",
    "                color = 'DarkBlue'\n",
    "            plt.loglog(nu_eff[i, j], cl[i, j, b], 'o',\n",
    "                       c=color, markeredgewidth=2., markeredgecolor='k',\n",
    "                       markersize=10)\n",
    "    plt.gca().yaxis.set_ticks_position('both')\n",
    "    plt.ylim(1e-3, 1e3)\n",
    "    plt.xlim(20, 400)\n",
    "    plt.ylabel('$D_\\\\ell\\ [ \\mu K^2]$')\n",
    "    plt.xlabel('Frequency [GHz]')\n",
    "None"
   ]
  },
  {
   "cell_type": "markdown",
   "metadata": {},
   "source": [
    "## Juggling  with `Model` objects\n",
    "In `fgspectra` any SED, power spectrum or cross-spectrum is a `Model`. You can print them to have an idea of what is inside. For example,"
   ]
  },
  {
   "cell_type": "code",
   "execution_count": 11,
   "metadata": {},
   "outputs": [
    {
     "data": {
      "text/plain": [
       "CorrelatedDustSynchrotron:\n",
       "- Join (SED):\n",
       "  - ModifiedBlackBody: {beta: null, nu: null, nu_0: null, temp: null}\n",
       "  - PowerLaw: {beta: null, nu: null, nu_0: null}\n",
       "- CorrelatedPowerLaws (Cl): {alpha: null, amp: null, ell: null, ell_0: null, rho: null}"
      ]
     },
     "execution_count": 11,
     "metadata": {},
     "output_type": "execute_result"
    }
   ],
   "source": [
    "dust_sync"
   ]
  },
  {
   "cell_type": "markdown",
   "metadata": {},
   "source": [
    "shows that the frequency dependence of `dust_sync` joins two components: a modified-black body (dust) and a power law (synchrotron). The power spectrum is specified by a set of correlated power laws. In addition, also the default values of the parameters are displayed. You can change them anytime, in the same way you would evaluate the model. For example, if you want to fix the parameters of the power spectrum part of the cross-spectrum,"
   ]
  },
  {
   "cell_type": "code",
   "execution_count": 12,
   "metadata": {},
   "outputs": [],
   "source": [
    "dust_sync.set_defaults(cl_kwargs=power_params)"
   ]
  },
  {
   "cell_type": "code",
   "execution_count": 13,
   "metadata": {},
   "outputs": [
    {
     "data": {
      "text/plain": [
       "CorrelatedDustSynchrotron:\n",
       "- Join (SED):\n",
       "  - ModifiedBlackBody: {beta: null, nu: null, nu_0: null, temp: null}\n",
       "  - PowerLaw: {beta: null, nu: null, nu_0: null}\n",
       "- CorrelatedPowerLaws (Cl):\n",
       "    alpha: [-0.5099999999999998, -1.0]\n",
       "    amp: [137.0, 0.6]\n",
       "    ell: [9.0, 50.0]\n",
       "    ell_0: 50\n",
       "    rho: 0.17"
      ]
     },
     "execution_count": 13,
     "metadata": {},
     "output_type": "execute_result"
    }
   ],
   "source": [
    "dust_sync"
   ]
  },
  {
   "cell_type": "markdown",
   "metadata": {},
   "source": [
    "Now when you evaluate the model you can pass only the remaining arguments"
   ]
  },
  {
   "cell_type": "code",
   "execution_count": 14,
   "metadata": {},
   "outputs": [
    {
     "data": {
      "text/plain": [
       "True"
      ]
     },
     "execution_count": 14,
     "metadata": {},
     "output_type": "execute_result"
    }
   ],
   "source": [
    "cl2 = dust_sync(sed_kwargs=frequency_params)\n",
    "np.all(cl == cl2)"
   ]
  },
  {
   "cell_type": "markdown",
   "metadata": {},
   "source": [
    "Yet another way to specify defaults is at construction time"
   ]
  },
  {
   "cell_type": "code",
   "execution_count": 15,
   "metadata": {},
   "outputs": [
    {
     "data": {
      "text/plain": [
       "CorrelatedDustSynchrotron:\n",
       "- Join (SED):\n",
       "  - ModifiedBlackBody:\n",
       "      beta: 1.5\n",
       "      nu: [23.0, 28.4, 33.0, 100.0, 143.0, 217.0, 353.0]\n",
       "      nu_0: 353.0\n",
       "      temp: 19.6\n",
       "  - PowerLaw:\n",
       "      beta: -3.15\n",
       "      nu: [23.0, 28.4, 33.0, 100.0, 143.0, 217.0, 353.0]\n",
       "      nu_0: 30\n",
       "- CorrelatedPowerLaws (Cl):\n",
       "    alpha: [-0.5099999999999998, -1.0]\n",
       "    amp: [137.0, 0.6]\n",
       "    ell: [9.0, 50.0]\n",
       "    ell_0: 50\n",
       "    rho: 0.17"
      ]
     },
     "execution_count": 15,
     "metadata": {},
     "output_type": "execute_result"
    }
   ],
   "source": [
    "dust_sync2 = fgc.CorrelatedDustSynchrotron(sed_kwargs=frequency_params, cl_kwargs=power_params)\n",
    "dust_sync2"
   ]
  },
  {
   "cell_type": "markdown",
   "metadata": {},
   "source": [
    "In this case all the parameters are specified from the beginning, so we don't need any argument when we evaluate the model"
   ]
  },
  {
   "cell_type": "code",
   "execution_count": 16,
   "metadata": {},
   "outputs": [
    {
     "data": {
      "text/plain": [
       "True"
      ]
     },
     "execution_count": 16,
     "metadata": {},
     "output_type": "execute_result"
    }
   ],
   "source": [
    "cl3 = dust_sync2()\n",
    "np.all(cl == cl3)"
   ]
  },
  {
   "cell_type": "markdown",
   "metadata": {},
   "source": [
    "Note that you have complete freedom on which parameters you set to a default. For example, suppose we want to fix the frequencies for all the components."
   ]
  },
  {
   "cell_type": "code",
   "execution_count": 17,
   "metadata": {},
   "outputs": [],
   "source": [
    "dust_params = dict(nu=nu, nu_0=353.)\n",
    "sync_params = dict(nu=nu, nu_0=30)\n",
    "frequency_params = dict(kwseq=(dust_params, sync_params))"
   ]
  },
  {
   "cell_type": "code",
   "execution_count": 18,
   "metadata": {},
   "outputs": [
    {
     "data": {
      "text/plain": [
       "CorrelatedDustSynchrotron:\n",
       "- Join (SED):\n",
       "  - ModifiedBlackBody:\n",
       "      beta: null\n",
       "      nu: [23.0, 28.4, 33.0, 100.0, 143.0, 217.0, 353.0]\n",
       "      nu_0: 353.0\n",
       "      temp: null\n",
       "  - PowerLaw:\n",
       "      beta: null\n",
       "      nu: [23.0, 28.4, 33.0, 100.0, 143.0, 217.0, 353.0]\n",
       "      nu_0: 30\n",
       "- CorrelatedPowerLaws (Cl): {alpha: null, amp: null, ell: null, ell_0: null, rho: null}"
      ]
     },
     "execution_count": 18,
     "metadata": {},
     "output_type": "execute_result"
    }
   ],
   "source": [
    "fgc.CorrelatedDustSynchrotron(sed_kwargs=frequency_params)"
   ]
  }
 ],
 "metadata": {
  "kernelspec": {
   "display_name": "Python 3",
   "language": "python",
   "name": "python3"
  },
  "language_info": {
   "codemirror_mode": {
    "name": "ipython",
    "version": 3
   },
   "file_extension": ".py",
   "mimetype": "text/x-python",
   "name": "python",
   "nbconvert_exporter": "python",
   "pygments_lexer": "ipython3",
   "version": "3.6.5"
  }
 },
 "nbformat": 4,
 "nbformat_minor": 2
}
