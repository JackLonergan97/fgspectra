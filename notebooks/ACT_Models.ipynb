{
 "cells": [
  {
   "cell_type": "code",
   "execution_count": 1,
   "metadata": {},
   "outputs": [],
   "source": [
    "%matplotlib inline "
   ]
  },
  {
   "cell_type": "code",
   "execution_count": 2,
   "metadata": {},
   "outputs": [],
   "source": [
    "from fgspectra import cross as fgc\n",
    "from fgspectra import power as fgp\n",
    "from fgspectra import frequency as fgf\n",
    "import numpy as np\n",
    "import matplotlib.pyplot as plt"
   ]
  },
  {
   "cell_type": "markdown",
   "metadata": {},
   "source": [
    "## ACT Parameters\n",
    "We write down the ACT parameters (these are from the multifrequency likelihood)."
   ]
  },
  {
   "cell_type": "code",
   "execution_count": 3,
   "metadata": {},
   "outputs": [],
   "source": [
    "par = {\n",
    "    'nu_0' : 150.0,\n",
    "    'ell_0' : 3000,\n",
    "    'T_CMB' : 2.725,\n",
    "    'T_d' : 9.7,\n",
    "\n",
    "    'a_tSZ' : 4.66,\n",
    "    'a_kSZ' : 1.60,\n",
    "    'a_p' : 6.87,\n",
    "    'beta_p' : 2.08,\n",
    "    'a_c' : 6.10,\n",
    "    'beta_c' : 2.08,\n",
    "    'n_CIBC' : 1.20,\n",
    "    'xi' : 0.09,\n",
    "    'a_s' :3.50,\n",
    "    'a_g' :0.88,\n",
    "\n",
    "    'f0_sz' : 146.9,\n",
    "    'f0_synch'  :147.6,\n",
    "    'f0_dust'   :149.7\n",
    "}"
   ]
  },
  {
   "cell_type": "markdown",
   "metadata": {},
   "source": [
    "Note the inclusion of effective frequencies (i.e. Page et al. 2003). You hopefully won't be using these, but in the last part of this notebook we'll have to use them in order to check against the ACT multifrequency likelihood."
   ]
  },
  {
   "cell_type": "markdown",
   "metadata": {},
   "source": [
    "## Models"
   ]
  },
  {
   "cell_type": "code",
   "execution_count": 4,
   "metadata": {},
   "outputs": [],
   "source": [
    "ksz = fgc.FactorizedCrossSpectrum(fgf.UnitSED(), fgp.kSZ_bat())\n",
    "cibp = fgc.FactorizedCrossSpectrum(fgf.CIB(), fgp.PowerLaw())\n",
    "radio = fgc.FactorizedCrossSpectrum(fgf.PowerLaw_g(), fgp.PowerLaw())\n",
    "cirrus = fgc.FactorizedCrossSpectrum(fgf.PowerLaw_g(), fgp.PowerLaw())\n",
    "\n",
    "# if there are correlations between components, \n",
    "# have to define them in a joined spectrum\n",
    "tSZ_and_CIB = fgc.CorrelatedFactorizedCrossSpectrum(\n",
    "    fgf.Join(fgf.ThermalSZ(), fgf.CIB()), \n",
    "    fgp.SZxCIB_Addison2012())\n",
    "\n",
    "# for testing purposes we'll also compute the tSZ and clustered CIB alone\n",
    "tsz = fgc.FactorizedCrossSpectrum(fgf.ThermalSZ(), fgp.tSZ_150_bat())\n",
    "cibc = fgc.FactorizedCrossSpectrum(fgf.CIB(), fgp.PowerLaw())"
   ]
  },
  {
   "cell_type": "markdown",
   "metadata": {},
   "source": [
    "## Calling the Models\n",
    "\n",
    "We can call the models individually by looking at their signatures."
   ]
  },
  {
   "cell_type": "code",
   "execution_count": 5,
   "metadata": {},
   "outputs": [
    {
     "name": "stdout",
     "output_type": "stream",
     "text": [
      "SED arguments: (nu, nu_0, T_CMB=2.725)\n",
      "Cl arguments: (ell, ell_0, amp=1.0)\n"
     ]
    }
   ],
   "source": [
    "print(tsz)"
   ]
  },
  {
   "cell_type": "code",
   "execution_count": 6,
   "metadata": {},
   "outputs": [],
   "source": [
    "freqs = np.array([150.0])\n",
    "ells = np.arange(2, 3000)\n",
    "spec = par['a_tSZ'] * tsz(\n",
    "    [freqs, par['nu_0'], par['T_CMB']], \n",
    "    [ells, par['ell_0']]\n",
    ")"
   ]
  },
  {
   "cell_type": "code",
   "execution_count": 7,
   "metadata": {},
   "outputs": [
    {
     "data": {
      "text/plain": [
       "[<matplotlib.lines.Line2D at 0x7fe853f9a0f0>]"
      ]
     },
     "execution_count": 7,
     "metadata": {},
     "output_type": "execute_result"
    },
    {
     "data": {
      "image/png": "[encoded data removed]",
      "text/plain": [
       "<Figure size 432x288 with 1 Axes>"
      ]
     },
     "metadata": {},
     "output_type": "display_data"
    }
   ],
   "source": [
    "plt.plot(spec[0,0,:])"
   ]
  },
  {
   "cell_type": "markdown",
   "metadata": {},
   "source": [
    "## All The Models\n",
    "\n",
    "To make a combined model, usually you should wrap `fgspectra` in your own function call and pass in whatever dictionary elements you want, so you can name your parameters."
   ]
  },
  {
   "cell_type": "code",
   "execution_count": 8,
   "metadata": {},
   "outputs": [
    {
     "data": {
      "text/plain": [
       "array([[[1.55555556e-06, 3.50000000e-06, 6.22222222e-06, ...,\n",
       "         3.49300350e+00, 3.49533489e+00, 3.49766706e+00]]])"
      ]
     },
     "execution_count": 8,
     "metadata": {},
     "output_type": "execute_result"
    }
   ],
   "source": [
    " par['a_s'] * radio(\n",
    "                [freqs, -0.5, par['nu_0'], par['T_CMB']],\n",
    "                [ells, 2, par['ell_0']])"
   ]
  },
  {
   "cell_type": "code",
   "execution_count": 9,
   "metadata": {},
   "outputs": [
    {
     "name": "stdout",
     "output_type": "stream",
     "text": [
      "SED arguments: (nu, beta, T_d, nu_0, T_CMB=2.725)\n",
      "Cl arguments: (ell, alpha, ell_0, amp=1.0)\n"
     ]
    }
   ],
   "source": [
    "print(cibp)"
   ]
  },
  {
   "cell_type": "code",
   "execution_count": 10,
   "metadata": {},
   "outputs": [],
   "source": [
    "def get_fg_model(freqs, ells, par):\n",
    "    return (\n",
    "            tSZ_and_CIB(\n",
    "                sed_args=((freqs, par['nu_0'], par['T_CMB']),\n",
    "                  (freqs, par['beta_c'], par['T_d'], par['nu_0'])),\n",
    "                cl_args=[(ells, par['ell_0'], par['a_tSZ']),\n",
    "                        (ells, 2-par['n_CIBC'], par['ell_0'], par['a_c']),\n",
    "                        (ells, par['ell_0'], -2*par['xi'] * np.sqrt(par['a_tSZ'] * par['a_c']))])   , \n",
    "            par['a_kSZ'] * ksz(\n",
    "                [freqs], \n",
    "                [ells, par['ell_0']]) ,\n",
    "            par['a_p'] * cibp(\n",
    "                [freqs, par['beta_p'], par['T_d'],par['nu_0']],\n",
    "                [ells, 2, par['ell_0']]) ,\n",
    "            par['a_s'] * radio(\n",
    "                [freqs, -0.5, par['nu_0'], par['T_CMB']],\n",
    "                [ells, 2, par['ell_0']]) ,\n",
    "            par['a_g'] * cirrus(\n",
    "                [freqs, 3.8, par['nu_0'], par['T_CMB']],\n",
    "                [ells, -0.7, par['ell_0']])\n",
    "    )"
   ]
  },
  {
   "cell_type": "code",
   "execution_count": 11,
   "metadata": {},
   "outputs": [],
   "source": [
    "specs = get_fg_model(freqs, ells, par)"
   ]
  },
  {
   "cell_type": "code",
   "execution_count": 12,
   "metadata": {},
   "outputs": [
    {
     "data": {
      "text/plain": [
       "(array([[[0.01752468, 0.026217  , 0.03445285, ..., 8.83751317,\n",
       "          8.83854691, 8.83958888]]]),\n",
       " array([[[1.05951143e-05, 6.64041374e-04, 1.31749187e-03, ...,\n",
       "          1.59961858e+00, 1.59974572e+00, 1.59987286e+00]]]),\n",
       " array([[[3.05333333e-06, 6.87000000e-06, 1.22133333e-05, ...,\n",
       "          6.85626687e+00, 6.86084305e+00, 6.86542076e+00]]]),\n",
       " array([[[1.55555556e-06, 3.50000000e-06, 6.22222222e-06, ...,\n",
       "          3.49300350e+00, 3.49533489e+00, 3.49766706e+00]]]),\n",
       " array([[[147.14535378, 110.78543624,  90.57859013, ...,   0.88061652,\n",
       "            0.8804109 ,   0.88020539]]]))"
      ]
     },
     "execution_count": 12,
     "metadata": {},
     "output_type": "execute_result"
    }
   ],
   "source": [
    "specs"
   ]
  },
  {
   "cell_type": "code",
   "execution_count": 22,
   "metadata": {},
   "outputs": [
    {
     "data": {
      "image/png": "[encoded data removed]",
      "text/plain": [
       "<Figure size 432x288 with 1 Axes>"
      ]
     },
     "metadata": {},
     "output_type": "display_data"
    }
   ],
   "source": [
    "for spec in specs:\n",
    "    plt.plot(ells, spec[0,0])\n",
    "    \n",
    "plt.plot( ells, np.sum( [s[0,0] for s in specs] , axis=0), 'k-', lw=4, label='sum' )\n",
    "plt.legend()\n",
    "plt.title('150x150')\n",
    "plt.yscale('log')"
   ]
  },
  {
   "cell_type": "code",
   "execution_count": null,
   "metadata": {},
   "outputs": [],
   "source": []
  }
 ],
 "metadata": {
  "kernelspec": {
   "display_name": "Python 3",
   "language": "python",
   "name": "python3"
  },
  "language_info": {
   "codemirror_mode": {
    "name": "ipython",
    "version": 3
   },
   "file_extension": ".py",
   "mimetype": "text/x-python",
   "name": "python",
   "nbconvert_exporter": "python",
   "pygments_lexer": "ipython3",
   "version": "3.7.3"
  }
 },
 "nbformat": 4,
 "nbformat_minor": 2
}
