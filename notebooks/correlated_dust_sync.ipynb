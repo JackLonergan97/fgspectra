{
 "cells": [
  {
   "cell_type": "markdown",
   "metadata": {},
   "source": [
    "# Correlated Dust and Synchrotron\n",
    "In this example we reproduce Fig. 7 of Planck18 XI"
   ]
  },
  {
   "cell_type": "code",
   "execution_count": 1,
   "metadata": {},
   "outputs": [],
   "source": [
    "%matplotlib inline \n",
    "%load_ext autoreload\n",
    "%autoreload 2"
   ]
  },
  {
   "cell_type": "code",
   "execution_count": 2,
   "metadata": {},
   "outputs": [],
   "source": [
    "import pysm\n",
    "import numpy as np\n",
    "import matplotlib.pyplot as plt"
   ]
  },
  {
   "cell_type": "markdown",
   "metadata": {},
   "source": [
    "We will create directly the frequency-frequency cross-spectrum, so we only need the `cross` module"
   ]
  },
  {
   "cell_type": "code",
   "execution_count": 3,
   "metadata": {},
   "outputs": [],
   "source": [
    "import fgspectra.cross as fgc"
   ]
  },
  {
   "cell_type": "markdown",
   "metadata": {},
   "source": [
    "The Planck and WMAP polarized channels involved are"
   ]
  },
  {
   "cell_type": "code",
   "execution_count": 4,
   "metadata": {},
   "outputs": [],
   "source": [
    "nu = np.array([23, 28.4, 33, 100, 143, 217, 353])"
   ]
  },
  {
   "cell_type": "markdown",
   "metadata": {},
   "source": [
    "From the paper (and in particular the legend of Fig 8) we get the following parameters"
   ]
  },
  {
   "cell_type": "code",
   "execution_count": 5,
   "metadata": {},
   "outputs": [],
   "source": [
    "dust_params = dict(nu=nu, beta=1.5, temp=19.6, nu_0=353.)\n",
    "sync_params = dict(nu=nu, beta=-3.15, nu_0=30)\n",
    "frequency_params = dict(kwargs_seq=(dust_params, sync_params))\n",
    "power_params = (\n",
    "    np.array([9, 50.]),  # ell\n",
    "    np.array([-2.51, -3.]) + 2,  # alpha (+2 to almost get D_ell)\n",
    "    50,  # ell0\n",
    "    np.array([137.0, 0.6]),  # amp\n",
    "    0.17  # rho\n",
    ")"
   ]
  },
  {
   "cell_type": "markdown",
   "metadata": {},
   "source": [
    "We now create the appropriate object"
   ]
  },
  {
   "cell_type": "code",
   "execution_count": 6,
   "metadata": {},
   "outputs": [],
   "source": [
    "pl = fgc.CorrelatedDustSynchrotron()"
   ]
  },
  {
   "cell_type": "markdown",
   "metadata": {},
   "source": [
    "and evaluate it for the parameters above"
   ]
  },
  {
   "cell_type": "code",
   "execution_count": 7,
   "metadata": {},
   "outputs": [],
   "source": [
    "cl = pl(frequency_params, power_params)"
   ]
  },
  {
   "cell_type": "markdown",
   "metadata": {},
   "source": [
    "The output array has three dimensions: the first frequency, the second frequency and the multipoles"
   ]
  },
  {
   "cell_type": "code",
   "execution_count": 8,
   "metadata": {},
   "outputs": [
    {
     "data": {
      "text/plain": [
       "(7, 7, 2)"
      ]
     },
     "execution_count": 8,
     "metadata": {},
     "output_type": "execute_result"
    }
   ],
   "source": [
    "cl.shape"
   ]
  },
  {
   "cell_type": "markdown",
   "metadata": {},
   "source": [
    "We plot the cross-spectra at the effective frequency, defined as the geometric mean of the two frequencies involved"
   ]
  },
  {
   "cell_type": "code",
   "execution_count": 9,
   "metadata": {},
   "outputs": [],
   "source": [
    "nu_eff = (nu * nu[:, np.newaxis])**0.5"
   ]
  },
  {
   "cell_type": "markdown",
   "metadata": {},
   "source": [
    "and here are the plots"
   ]
  },
  {
   "cell_type": "code",
   "execution_count": 10,
   "metadata": {},
   "outputs": [
    {
     "data": {
      "image/png": "[encoded data removed]",
      "text/plain": [
       "<Figure size 432x288 with 1 Axes>"
      ]
     },
     "metadata": {},
     "output_type": "display_data"
    },
    {
     "data": {
      "image/png": "[encoded data removed]",
      "text/plain": [
       "<Figure size 432x288 with 1 Axes>"
      ]
     },
     "metadata": {},
     "output_type": "display_data"
    }
   ],
   "source": [
    "for b in range(2):\n",
    "    plt.figure()\n",
    "    for i in range(len(nu)):\n",
    "        for j in range(i-1, len(nu)):\n",
    "            if i == j:\n",
    "                color = 'Gold'\n",
    "            else:\n",
    "                color = 'DarkBlue'\n",
    "            plt.loglog(nu_eff[i, j], cl[i, j, b], 'o',\n",
    "                       c=color, markeredgewidth=2., markeredgecolor='k',\n",
    "                       markersize=10)\n",
    "    plt.gca().yaxis.set_ticks_position('both')\n",
    "    plt.ylim(1e-3, 1e3)\n",
    "    plt.xlim(20, 400)\n",
    "    plt.ylabel('$D_\\\\ell\\ [ \\mu K^2]$')\n",
    "    plt.xlabel('Frequency [GHz]')\n",
    "None"
   ]
  }
 ],
 "metadata": {
  "kernelspec": {
   "display_name": "Python 3",
   "language": "python",
   "name": "python3"
  },
  "language_info": {
   "codemirror_mode": {
    "name": "ipython",
    "version": 3
   },
   "file_extension": ".py",
   "mimetype": "text/x-python",
   "name": "python",
   "nbconvert_exporter": "python",
   "pygments_lexer": "ipython3",
   "version": "3.6.5"
  }
 },
 "nbformat": 4,
 "nbformat_minor": 2
}
